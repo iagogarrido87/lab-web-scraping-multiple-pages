{
 "cells": [
  {
   "cell_type": "code",
   "execution_count": 1,
   "id": "28dd1262",
   "metadata": {},
   "outputs": [],
   "source": [
    "import requests\n",
    "from bs4 import BeautifulSoup\n",
    "import pandas as pd"
   ]
  },
  {
   "cell_type": "code",
   "execution_count": 2,
   "id": "f2f7f142",
   "metadata": {},
   "outputs": [],
   "source": [
    "# Make a request to the web page\n",
    "url = 'https://en.wikipedia.org/wiki/Rolling_Stone%27s_500_Greatest_Songs_of_All_Time'\n",
    "response = requests.get(url)\n",
    "soup = BeautifulSoup(response.content, 'html.parser')"
   ]
  },
  {
   "cell_type": "code",
   "execution_count": 3,
   "id": "44486322",
   "metadata": {},
   "outputs": [],
   "source": [
    "# Find the table with the list of songs\n",
    "table = soup.find('table', {'class': 'wikitable'})"
   ]
  },
  {
   "cell_type": "code",
   "execution_count": 4,
   "id": "24afaaeb",
   "metadata": {},
   "outputs": [],
   "source": [
    "# Initialize lists for songs and artists\n",
    "song_list = []\n",
    "artist_list = []"
   ]
  },
  {
   "cell_type": "code",
   "execution_count": 5,
   "id": "f461f03a",
   "metadata": {},
   "outputs": [],
   "source": [
    "# Loop through the table rows and get the data for songs and artists\n",
    "for row in table.find_all('tr')[1:]:\n",
    "    columns = row.find_all('td')\n",
    "    song = columns[1].text.strip()\n",
    "    artist = columns[2].text.strip()\n",
    "    song_list.append(song)\n",
    "    artist_list.append(artist)"
   ]
  },
  {
   "cell_type": "code",
   "execution_count": 6,
   "id": "aae44e21",
   "metadata": {},
   "outputs": [],
   "source": [
    "# Create a DataFrame with the data\n",
    "rolling_stone_df = pd.DataFrame({'Artist': artist_list, 'Song': song_list})"
   ]
  },
  {
   "cell_type": "code",
   "execution_count": 7,
   "id": "551cc9fd",
   "metadata": {},
   "outputs": [
    {
     "name": "stdout",
     "output_type": "stream",
     "text": [
      "                            Artist                Song\n",
      "0           \"Like a Rolling Stone\"           Bob Dylan\n",
      "1  \"(I Can't Get No) Satisfaction\"  The Rolling Stones\n",
      "2                        \"Imagine\"         John Lennon\n",
      "3                \"What's Going On\"         Marvin Gaye\n",
      "4                        \"Respect\"     Aretha Franklin\n",
      "5                \"Good Vibrations\"      The Beach Boys\n",
      "6                \"Johnny B. Goode\"         Chuck Berry\n",
      "7                       \"Hey Jude\"         The Beatles\n",
      "8        \"Smells Like Teen Spirit\"             Nirvana\n",
      "9                   \"What'd I Say\"         Ray Charles\n"
     ]
    }
   ],
   "source": [
    "# Display the DataFrame\n",
    "print(rolling_stone_df)"
   ]
  },
  {
   "cell_type": "code",
   "execution_count": null,
   "id": "f94e8da9",
   "metadata": {},
   "outputs": [],
   "source": []
  }
 ],
 "metadata": {
  "kernelspec": {
   "display_name": "Python 3 (ipykernel)",
   "language": "python",
   "name": "python3"
  },
  "language_info": {
   "codemirror_mode": {
    "name": "ipython",
    "version": 3
   },
   "file_extension": ".py",
   "mimetype": "text/x-python",
   "name": "python",
   "nbconvert_exporter": "python",
   "pygments_lexer": "ipython3",
   "version": "3.9.13"
  }
 },
 "nbformat": 4,
 "nbformat_minor": 5
}
